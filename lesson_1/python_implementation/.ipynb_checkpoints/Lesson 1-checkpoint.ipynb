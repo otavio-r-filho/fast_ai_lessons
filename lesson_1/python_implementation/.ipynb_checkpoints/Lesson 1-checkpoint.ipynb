{
 "cells": [
  {
   "cell_type": "code",
   "execution_count": 3,
   "metadata": {},
   "outputs": [],
   "source": [
    "import tensorflow as tf\n",
    "import pandas as pd\n",
    "import numpy as np\n",
    "import matplotlib.pyplot as plt\n",
    "import os\n",
    "from glob import glob\n",
    "from PIL import Image\n",
    "from tqdm import tqdm"
   ]
  },
  {
   "cell_type": "markdown",
   "metadata": {},
   "source": [
    "### Loading image list\n",
    "\n",
    "The image list will be used by the batch function to load the files and prepare the batch with the input data and labels"
   ]
  },
  {
   "cell_type": "code",
   "execution_count": 36,
   "metadata": {},
   "outputs": [
    {
     "data": {
      "text/html": [
       "<div>\n",
       "<style scoped>\n",
       "    .dataframe tbody tr th:only-of-type {\n",
       "        vertical-align: middle;\n",
       "    }\n",
       "\n",
       "    .dataframe tbody tr th {\n",
       "        vertical-align: top;\n",
       "    }\n",
       "\n",
       "    .dataframe thead th {\n",
       "        text-align: right;\n",
       "    }\n",
       "</style>\n",
       "<table border=\"1\" class=\"dataframe\">\n",
       "  <thead>\n",
       "    <tr style=\"text-align: right;\">\n",
       "      <th></th>\n",
       "      <th>image_file</th>\n",
       "      <th>class_id</th>\n",
       "      <th>species</th>\n",
       "      <th>breed_id</th>\n",
       "    </tr>\n",
       "  </thead>\n",
       "  <tbody>\n",
       "    <tr>\n",
       "      <th>0</th>\n",
       "      <td>Abyssinian_100.jpg</td>\n",
       "      <td>1</td>\n",
       "      <td>1</td>\n",
       "      <td>1</td>\n",
       "    </tr>\n",
       "    <tr>\n",
       "      <th>1</th>\n",
       "      <td>Abyssinian_101.jpg</td>\n",
       "      <td>1</td>\n",
       "      <td>1</td>\n",
       "      <td>1</td>\n",
       "    </tr>\n",
       "    <tr>\n",
       "      <th>2</th>\n",
       "      <td>Abyssinian_102.jpg</td>\n",
       "      <td>1</td>\n",
       "      <td>1</td>\n",
       "      <td>1</td>\n",
       "    </tr>\n",
       "    <tr>\n",
       "      <th>3</th>\n",
       "      <td>Abyssinian_103.jpg</td>\n",
       "      <td>1</td>\n",
       "      <td>1</td>\n",
       "      <td>1</td>\n",
       "    </tr>\n",
       "    <tr>\n",
       "      <th>4</th>\n",
       "      <td>Abyssinian_104.jpg</td>\n",
       "      <td>1</td>\n",
       "      <td>1</td>\n",
       "      <td>1</td>\n",
       "    </tr>\n",
       "  </tbody>\n",
       "</table>\n",
       "</div>"
      ],
      "text/plain": [
       "           image_file  class_id  species  breed_id\n",
       "0  Abyssinian_100.jpg         1        1         1\n",
       "1  Abyssinian_101.jpg         1        1         1\n",
       "2  Abyssinian_102.jpg         1        1         1\n",
       "3  Abyssinian_103.jpg         1        1         1\n",
       "4  Abyssinian_104.jpg         1        1         1"
      ]
     },
     "execution_count": 36,
     "metadata": {},
     "output_type": "execute_result"
    }
   ],
   "source": [
    "img_list = pd.read_csv(\"../../datasets/image_classification/oxford-iiit-pet/annotations/list.txt\",\n",
    "                       sep = \" \", comment = \"#\", header = None,\n",
    "                      names = [\"image_file\", \"class_id\", \"species\", \"breed_id\"])\n",
    "img_list.loc[:, \"image_file\"] = img_list.loc[:, \"image_file\"].apply(lambda x: x + \".jpg\")\n",
    "img_list.head()"
   ]
  },
  {
   "cell_type": "markdown",
   "metadata": {},
   "source": [
    "### Creating the class dictionary\n",
    "\n",
    "This class dictionary will be used to print the class string"
   ]
  },
  {
   "cell_type": "code",
   "execution_count": 37,
   "metadata": {},
   "outputs": [
    {
     "data": {
      "text/plain": [
       "{1: {'breed': 'Abyssinian', 'species': 'cat'},\n",
       " 2: {'breed': 'american bulldog', 'species': 'dog'},\n",
       " 3: {'breed': 'american pit bull terrier', 'species': 'dog'},\n",
       " 4: {'breed': 'basset hound', 'species': 'dog'},\n",
       " 5: {'breed': 'beagle', 'species': 'dog'},\n",
       " 6: {'breed': 'Bengal', 'species': 'cat'},\n",
       " 7: {'breed': 'Birman', 'species': 'cat'},\n",
       " 8: {'breed': 'Bombay', 'species': 'cat'},\n",
       " 9: {'breed': 'boxer', 'species': 'dog'},\n",
       " 10: {'breed': 'British Shorthair', 'species': 'cat'},\n",
       " 11: {'breed': 'chihuahua', 'species': 'dog'},\n",
       " 12: {'breed': 'Egyptian Mau', 'species': 'cat'},\n",
       " 13: {'breed': 'english cocker spaniel', 'species': 'dog'},\n",
       " 14: {'breed': 'english setter', 'species': 'dog'},\n",
       " 15: {'breed': 'german shorthaired', 'species': 'dog'},\n",
       " 16: {'breed': 'great pyrenees', 'species': 'dog'},\n",
       " 17: {'breed': 'havanese', 'species': 'dog'},\n",
       " 18: {'breed': 'japanese chin', 'species': 'dog'},\n",
       " 19: {'breed': 'keeshond', 'species': 'dog'},\n",
       " 20: {'breed': 'leonberger', 'species': 'dog'},\n",
       " 21: {'breed': 'Maine Coon', 'species': 'cat'},\n",
       " 22: {'breed': 'miniature pinscher', 'species': 'dog'},\n",
       " 23: {'breed': 'newfoundland', 'species': 'dog'},\n",
       " 24: {'breed': 'Persian', 'species': 'cat'},\n",
       " 25: {'breed': 'pomeranian', 'species': 'dog'},\n",
       " 26: {'breed': 'pug', 'species': 'dog'},\n",
       " 27: {'breed': 'Ragdoll', 'species': 'cat'},\n",
       " 28: {'breed': 'Russian Blue', 'species': 'cat'},\n",
       " 29: {'breed': 'saint bernard', 'species': 'dog'},\n",
       " 30: {'breed': 'samoyed', 'species': 'dog'},\n",
       " 31: {'breed': 'scottish terrier', 'species': 'dog'},\n",
       " 32: {'breed': 'shiba inu', 'species': 'dog'},\n",
       " 33: {'breed': 'Siamese', 'species': 'cat'},\n",
       " 34: {'breed': 'Sphynx', 'species': 'cat'},\n",
       " 35: {'breed': 'staffordshire bull terrier', 'species': 'dog'},\n",
       " 36: {'breed': 'wheaten terrier', 'species': 'dog'},\n",
       " 37: {'breed': 'yorkshire terrier', 'species': 'dog'}}"
      ]
     },
     "execution_count": 37,
     "metadata": {},
     "output_type": "execute_result"
    }
   ],
   "source": [
    "class_dict = img_list.loc[:,[\"class_id\", \"image_file\", \"species\"]]\n",
    "class_dict.rename(columns = {\"class_id\": \"class\", \"image_file\": \"breed\"}, inplace = True)\n",
    "class_dict.loc[:, \"breed\"].replace(\"_([0-9]{1,})\\.jpg\", \"\", regex = True, inplace = True)\n",
    "class_dict.loc[:, \"breed\"].replace(\"_\", \" \", regex = True, inplace = True)\n",
    "class_dict.loc[:, \"species\"].replace(1, \"cat\", inplace = True)\n",
    "class_dict.loc[:, \"species\"].replace(2, \"dog\", inplace = True)\n",
    "class_dict.drop_duplicates(keep = \"first\", inplace = True)\n",
    "class_dict.set_index('class', inplace = True)\n",
    "class_dict = class_dict.to_dict('index')\n",
    "class_dict"
   ]
  }
 ],
 "metadata": {
  "kernelspec": {
   "display_name": "Python (tfgpu)",
   "language": "python",
   "name": "tfgpu"
  },
  "language_info": {
   "codemirror_mode": {
    "name": "ipython",
    "version": 3
   },
   "file_extension": ".py",
   "mimetype": "text/x-python",
   "name": "python",
   "nbconvert_exporter": "python",
   "pygments_lexer": "ipython3",
   "version": "3.6.8"
  }
 },
 "nbformat": 4,
 "nbformat_minor": 2
}
